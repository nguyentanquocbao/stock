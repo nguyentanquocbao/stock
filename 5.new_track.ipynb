{
 "cells": [
  {
   "cell_type": "code",
   "execution_count": 2,
   "metadata": {},
   "outputs": [
    {
     "name": "stderr",
     "output_type": "stream",
     "text": [
      "2025-01-13 02:14:09,582 - INFO - Max time in merged data: 2025-01-10 00:00:00\n",
      "2025-01-13 02:14:09,788 - INFO - Summary of tickers by exchange: {'DELISTED': 611, 'HNX': 313, 'HSX': 500, 'UPCOM': 884}\n"
     ]
    }
   ],
   "source": [
    "import pandas as pd\n",
    "from dataclasses import dataclass\n",
    "from tracking import *\n",
    "import logging\n",
    "\n",
    "# Configure logging to show INFO level messages\n",
    "logging.basicConfig(\n",
    "    level=logging.INFO, format=\"%(asctime)s - %(levelname)s - %(message)s\"\n",
    ")\n",
    "tracking_instance = Tracking(\"./data/stock/\", \"./stock_dictionary.json\")\n",
    "data = tracking_instance.stocks_data"
   ]
  }
 ],
 "metadata": {
  "kernelspec": {
   "display_name": "Python 3",
   "language": "python",
   "name": "python3"
  },
  "language_info": {
   "codemirror_mode": {
    "name": "ipython",
    "version": 3
   },
   "file_extension": ".py",
   "mimetype": "text/x-python",
   "name": "python",
   "nbconvert_exporter": "python",
   "pygments_lexer": "ipython3",
   "version": "3.13.1"
  }
 },
 "nbformat": 4,
 "nbformat_minor": 2
}
