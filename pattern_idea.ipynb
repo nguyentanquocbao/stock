{
 "cells": [
  {
   "cell_type": "code",
   "execution_count": 9,
   "metadata": {},
   "outputs": [],
   "source": [
    "from icecream import ic"
   ]
  },
  {
   "cell_type": "code",
   "execution_count": 27,
   "metadata": {},
   "outputs": [
    {
     "name": "stdout",
     "output_type": "stream",
     "text": [
      "The next number in the sequence [3, 9, 27, 81] is: 108\n"
     ]
    }
   ],
   "source": [
    "def identify_pattern_and_predict(numbers):\n",
    "    def find_difference_sequence(seq):\n",
    "        return [seq[i] - seq[i - 1] for i in range(1, len(seq))]\n",
    "\n",
    "    def find_pattern(seq):\n",
    "        diffs = find_difference_sequence(seq)\n",
    "        if all(x == diffs[0] for x in diffs):\n",
    "            return \"Arithmetic\", diffs[0]\n",
    "        elif all(\n",
    "            diffs[i] == diffs[i - 1] * diffs[0]\n",
    "            for i in range(1, len(diffs))\n",
    "        ):\n",
    "            return \"Geometric\", diffs[0]\n",
    "        else:\n",
    "            return \"Complex\", None\n",
    "\n",
    "    if len(numbers) < 3:\n",
    "        raise ValueError(\"The sequence must have at least 3 numbers\")\n",
    "\n",
    "    pattern, value = find_pattern(numbers)\n",
    "\n",
    "    if pattern == \"Arithmetic\":\n",
    "        next_number = numbers[-1] + value\n",
    "    elif pattern == \"Geometric\":\n",
    "        next_number = numbers[-1] * value\n",
    "    else:\n",
    "        # For the complex pattern, let's assume a custom logic (fibonacci-like)\n",
    "        next_number = numbers[-1] + numbers[-2]\n",
    "\n",
    "    return next_number\n",
    "\n",
    "\n",
    "sequence = [3, 9, 27, 81]  # Geometric sequence\n",
    "print(\n",
    "    f\"The next number in the sequence {sequence} is: {identify_pattern_and_predict(sequence)}\"\n",
    ")"
   ]
  },
  {
   "cell_type": "code",
   "execution_count": 39,
   "metadata": {},
   "outputs": [],
   "source": [
    "from bao import *"
   ]
  },
  {
   "cell_type": "code",
   "execution_count": 44,
   "metadata": {},
   "outputs": [
    {
     "data": {
      "text/plain": [
       "[6, 18, 54]"
      ]
     },
     "execution_count": 44,
     "metadata": {},
     "output_type": "execute_result"
    },
    {
     "data": {
      "text/plain": [
       "1"
      ]
     },
     "execution_count": 44,
     "metadata": {},
     "output_type": "execute_result"
    },
    {
     "data": {
      "text/plain": [
       "18"
      ]
     },
     "execution_count": 44,
     "metadata": {},
     "output_type": "execute_result"
    },
    {
     "data": {
      "text/plain": [
       "36"
      ]
     },
     "execution_count": 44,
     "metadata": {},
     "output_type": "execute_result"
    },
    {
     "data": {
      "text/plain": [
       "2"
      ]
     },
     "execution_count": 44,
     "metadata": {},
     "output_type": "execute_result"
    },
    {
     "data": {
      "text/plain": [
       "54"
      ]
     },
     "execution_count": 44,
     "metadata": {},
     "output_type": "execute_result"
    },
    {
     "data": {
      "text/plain": [
       "108"
      ]
     },
     "execution_count": 44,
     "metadata": {},
     "output_type": "execute_result"
    }
   ],
   "source": [
    "def find_difference_sequence(seq):\n",
    "    return [seq[i] - seq[i - 1] for i in range(1, len(seq))]\n",
    "\n",
    "\n",
    "diffs = find_difference_sequence([3, 9, 27, 81])\n",
    "diffs\n",
    "for i in range(1, len(diffs)):\n",
    "    i\n",
    "\n",
    "    diffs[i]\n",
    "    diffs[i - 1] * diffs[0]\n",
    "    # if all(x == diffs[0] for x in diffs):\n",
    "    #     print(\"Arithmetic\", diffs[0])\n",
    "    # elif all(\n",
    "    #     diffs[i] == diffs[i - 1] * diffs[0] for i in range(1, len(diffs))\n",
    "    # ):\n",
    "    #     print(\"Geometric\", diffs[0])\n",
    "    # else:\n",
    "    # print(\"Complex\", None)"
   ]
  },
  {
   "cell_type": "code",
   "execution_count": null,
   "metadata": {},
   "outputs": [],
   "source": []
  },
  {
   "cell_type": "code",
   "execution_count": 8,
   "metadata": {},
   "outputs": [
    {
     "name": "stdout",
     "output_type": "stream",
     "text": [
      "The next number in the sequence [2, 4, 6, 8, 10] is: 12\n",
      "The next number in the sequence [3, 9, 27, 81] is: 108\n",
      "The next number in the sequence [1, 1, 2, 3, 5, 8] is: 13\n"
     ]
    }
   ],
   "source": [
    "# Example usage\n",
    "sequence = [2, 4, 6, 8, 10]  # Arithmetic sequence\n",
    "print(\n",
    "    f\"The next number in the sequence {sequence} is: {identify_pattern_and_predict(sequence)}\"\n",
    ")\n",
    "\n",
    "\n",
    "\n",
    "sequence = [1, 1, 2, 3, 5, 8]  # Fibonacci-like complex sequence\n",
    "print(\n",
    "    f\"The next number in the sequence {sequence} is: {identify_pattern_and_predict(sequence)}\"\n",
    ")"
   ]
  }
 ],
 "metadata": {
  "kernelspec": {
   "display_name": "Python 3",
   "language": "python",
   "name": "python3"
  },
  "language_info": {
   "codemirror_mode": {
    "name": "ipython",
    "version": 3
   },
   "file_extension": ".py",
   "mimetype": "text/x-python",
   "name": "python",
   "nbconvert_exporter": "python",
   "pygments_lexer": "ipython3",
   "version": "3.13.1"
  }
 },
 "nbformat": 4,
 "nbformat_minor": 2
}
